{
 "cells": [
  {
   "cell_type": "markdown",
   "metadata": {},
   "source": [
    "### Taylor Series in Function Approximation"
   ]
  },
  {
   "cell_type": "code",
   "execution_count": 3,
   "metadata": {},
   "outputs": [
    {
     "name": "stdout",
     "output_type": "stream",
     "text": [
      "2.7182815255731922\n"
     ]
    }
   ],
   "source": [
    "# Approximation of e^1\n",
    "import math\n",
    "\n",
    "def exp_taylor(x, terms=10):\n",
    "    result = 0\n",
    "    for n in range(terms):\n",
    "        result += x**n / math.factorial(n)\n",
    "    return result\n",
    "\n",
    "print(exp_taylor(1))  "
   ]
  },
  {
   "cell_type": "code",
   "execution_count": 4,
   "metadata": {},
   "outputs": [
    {
     "name": "stdout",
     "output_type": "stream",
     "text": [
      "1.0\n"
     ]
    }
   ],
   "source": [
    "# Approximation of sin(pi/2)\n",
    "def sin_taylor(x, terms=10):\n",
    "    result = 0\n",
    "    for n in range(terms):\n",
    "        coeff = (-1)**n / math.factorial(2*n + 1)\n",
    "        result += coeff * x**(2*n + 1)\n",
    "    return result\n",
    "\n",
    "print(sin_taylor(math.pi/2))  "
   ]
  },
  {
   "cell_type": "code",
   "execution_count": 5,
   "metadata": {},
   "outputs": [
    {
     "name": "stdout",
     "output_type": "stream",
     "text": [
      "0.6456349206349207\n"
     ]
    }
   ],
   "source": [
    "# Approximation of ln(2)\n",
    "def ln_taylor(x, terms=10):\n",
    "    if x <= 0:\n",
    "        return float('NaN')\n",
    "    result = 0\n",
    "    for n in range(1, terms + 1):\n",
    "        result += ((-1) ** (n - 1)) * ((x - 1) ** n) / n\n",
    "    return result\n",
    "\n",
    "print(ln_taylor(2))  "
   ]
  },
  {
   "cell_type": "markdown",
   "metadata": {},
   "source": [
    "### Taylor Series in Machine Learning"
   ]
  },
  {
   "cell_type": "markdown",
   "metadata": {},
   "source": [
    "##### Optimize Gradient Descent Algorithm\n"
   ]
  },
  {
   "cell_type": "code",
   "execution_count": 17,
   "metadata": {},
   "outputs": [
    {
     "name": "stdout",
     "output_type": "stream",
     "text": [
      "Iteration 1: x = 1.4318\n",
      "Iteration 2: x = 1.0913\n",
      "Iteration 3: x = 0.9132\n",
      "Iteration 4: x = 0.8477\n",
      "Iteration 5: x = 0.8378\n"
     ]
    }
   ],
   "source": [
    "import numpy as np\n",
    "\n",
    "def newton_update(x, f, df, d2f):\n",
    "    \"\"\"\n",
    "    Compute the update step for Newton's method using a second-order Taylor series approximation.\n",
    "    \n",
    "    Parameters:\n",
    "    x (float): The current value of the parameter.\n",
    "    f (callable): The function to be minimized.\n",
    "    df (callable): The first derivative of the function.\n",
    "    d2f (callable): The second derivative of the function.\n",
    "    \n",
    "    Returns:\n",
    "    float: The updated value of the parameter.\n",
    "    \"\"\"\n",
    "    return x - df(x) / d2f(x)\n",
    "\n",
    "def f(x):\n",
    "    return x**4 - 2*x**2 + x\n",
    "def df(x):\n",
    "    return 4*x**3 - 4*x + 1\n",
    "def d2f(x):\n",
    "    return 12*x**2 - 4\n",
    "\n",
    "x0 = 2.0\n",
    "for i in range(5):\n",
    "    x0 = newton_update(x0, f, df, d2f)\n",
    "    print(f\"Iteration {i+1}: x = {x0:.4f}\")"
   ]
  },
  {
   "cell_type": "markdown",
   "metadata": {},
   "source": [
    "##### Approximate sigmoid function of Logistic Regression to simplify the optimization problem\n"
   ]
  },
  {
   "cell_type": "code",
   "execution_count": 40,
   "metadata": {},
   "outputs": [
    {
     "name": "stdout",
     "output_type": "stream",
     "text": [
      "Sigmoid function:\n",
      "0.11920292202211756\n",
      "0.5\n",
      "0.8807970779778824\n",
      "\n",
      "Taylor series approximation:\n",
      "0.11920307483495943\n",
      "0.5\n",
      "0.8807979848918727\n"
     ]
    }
   ],
   "source": [
    "import numpy as np\n",
    "import math\n",
    "from sympy import symbols, exp, diff\n",
    "\n",
    "x = symbols('x')\n",
    "f = 1 / (1 + exp(-x))\n",
    "\n",
    "def sigmoid(z):\n",
    "    return float(f.subs('x', z))\n",
    "\n",
    "# a function that computes the nth derivative of a function f with respect to x\n",
    "def dny(f, x, n):\n",
    "    if n == 0:\n",
    "        return f\n",
    "    else:\n",
    "        return diff(dny(f, x, n-1), x)\n",
    "\n",
    "# Compute the taylor approximation of the sigmoid function\n",
    "def sigmoid_taylor(z, n):\n",
    "    result = 0\n",
    "    for i in range(n):\n",
    "        result += float(dny(f, x, i).subs('x', 0)) / math.factorial(i) * z**i\n",
    "    return result\n",
    "\n",
    "z = np.array([-2, 0, 2])\n",
    "z_values = np.array([-2, 0, 2])\n",
    "print(\"Sigmoid function:\")\n",
    "for z in z_values:\n",
    "    print(sigmoid(z))\n",
    "\n",
    "print(\"\\nTaylor series approximation:\")\n",
    "for z in z_values:\n",
    "    print(sigmoid_taylor(z, 10))  # 10 is the number of terms in the Taylor series"
   ]
  }
 ],
 "metadata": {
  "kernelspec": {
   "display_name": "LZPMPC005",
   "language": "python",
   "name": "python3"
  },
  "language_info": {
   "codemirror_mode": {
    "name": "ipython",
    "version": 3
   },
   "file_extension": ".py",
   "mimetype": "text/x-python",
   "name": "python",
   "nbconvert_exporter": "python",
   "pygments_lexer": "ipython3",
   "version": "3.11.5"
  }
 },
 "nbformat": 4,
 "nbformat_minor": 2
}
